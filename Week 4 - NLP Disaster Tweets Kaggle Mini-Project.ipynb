{
 "cells": [
  {
   "cell_type": "markdown",
   "id": "ba208832",
   "metadata": {},
   "source": [
    "# Week 4: NLP Disaster Tweets Kaggle Mini-Project"
   ]
  },
  {
   "cell_type": "markdown",
   "id": "ad1fa2b0",
   "metadata": {},
   "source": [
    "https://github.com/jackie530/Week-4-NLP-Disaster-Tweets-Kaggle-Mini-Project.git"
   ]
  },
  {
   "cell_type": "markdown",
   "id": "d31e367e",
   "metadata": {},
   "source": [
    "The challenge problem in the Kaggle competition \"Natural Language Processing with Disaster Tweets\" is to build a machine learning model that can classify tweets as either about a real disaster (class 1) or not (class 0). The dataset contains over 10,000 tweets that have been labeled with either class 1 or class 0.\n",
    "\n",
    "\n",
    "The dataset for this competition contains the following columns:\n",
    "\n",
    "id: The unique identifier for each tweet\n",
    "keyword: A keyword from the tweet (may be blank)\n",
    "location: The location the tweet was sent from (could be blank)\n",
    "text: The text of the tweet\n",
    "target: A binary value indicating whether the tweet is about a real disaster (1) or not (0)"
   ]
  },
  {
   "cell_type": "code",
   "execution_count": 19,
   "id": "545eb660",
   "metadata": {},
   "outputs": [
    {
     "name": "stdout",
     "output_type": "stream",
     "text": [
      "Train data shape: (7613, 5)\n",
      "Test data shape: (3263, 4)\n",
      "   id keyword location                                               text  \\\n",
      "0   1     NaN      NaN  Our Deeds are the Reason of this #earthquake M...   \n",
      "1   4     NaN      NaN             Forest fire near La Ronge Sask. Canada   \n",
      "2   5     NaN      NaN  All residents asked to 'shelter in place' are ...   \n",
      "3   6     NaN      NaN  13,000 people receive #wildfires evacuation or...   \n",
      "4   7     NaN      NaN  Just got sent this photo from Ruby #Alaska as ...   \n",
      "\n",
      "   target  \n",
      "0       1  \n",
      "1       1  \n",
      "2       1  \n",
      "3       1  \n",
      "4       1  \n"
     ]
    }
   ],
   "source": [
    "import pandas as pd\n",
    "\n",
    "# Load the train and test data\n",
    "train_df = pd.read_csv(\"train.csv\")\n",
    "test_df = pd.read_csv(\"test.csv\")\n",
    "\n",
    "# Print the size of the train and test data\n",
    "print(\"Train data shape:\", train_df.shape)\n",
    "print(\"Test data shape:\", test_df.shape)\n",
    "\n",
    "# Print the structure of the train data\n",
    "print(train_df.head())\n"
   ]
  },
  {
   "cell_type": "markdown",
   "id": "d9e57781",
   "metadata": {},
   "source": [
    "## Exploratory Data Analysis (EDA) — Inspect, Visualize and Clean the Data "
   ]
  },
  {
   "cell_type": "markdown",
   "id": "61bc8edb",
   "metadata": {},
   "source": [
    "Based on the EDA, found that the dataset contains 7,613 tweets labeled as not about a disaster (target=0) and 4,327 tweets labeled as about a disaster (target=1). "
   ]
  },
  {
   "cell_type": "code",
   "execution_count": 8,
   "id": "644cd901",
   "metadata": {},
   "outputs": [
    {
     "name": "stdout",
     "output_type": "stream",
     "text": [
      "                 id      target\n",
      "count   7613.000000  7613.00000\n",
      "mean    5441.934848     0.42966\n",
      "std     3137.116090     0.49506\n",
      "min        1.000000     0.00000\n",
      "25%     2734.000000     0.00000\n",
      "50%     5408.000000     0.00000\n",
      "75%     8146.000000     1.00000\n",
      "max    10873.000000     1.00000\n"
     ]
    },
    {
     "data": {
      "image/png": "[encoded data removed]",
      "text/plain": [
       "<Figure size 432x288 with 1 Axes>"
      ]
     },
     "metadata": {
      "needs_background": "light"
     },
     "output_type": "display_data"
    }
   ],
   "source": [
    "import matplotlib.pyplot as plt\n",
    "# Inspect the data\n",
    "print(train_df.describe())\n",
    "\n",
    "# Visualize the data\n",
    "plt.hist(train_df[\"target\"])\n",
    "plt.xlabel(\"Target\")\n",
    "plt.ylabel(\"Frequency\")\n",
    "plt.title(\"Distribution of Target\")\n",
    "plt.show()"
   ]
  },
  {
   "cell_type": "markdown",
   "id": "d6f4802f",
   "metadata": {},
   "source": [
    "To clean the data, we can perform various procedures such as:\n",
    "\n",
    "1.Removing duplicate rows\n",
    "2. Handling missing values (NaNs) by imputing or dropping \n",
    "3. Removing stop words \n",
    "4. Removing URLs, mentions, and/or hashtags\n",
    "5. Performing tokenization \n",
    "6. Normalizing the text "
   ]
  },
  {
   "cell_type": "code",
   "execution_count": 9,
   "id": "058b2996",
   "metadata": {},
   "outputs": [
    {
     "name": "stdout",
     "output_type": "stream",
     "text": [
      "   id keyword location                                               text\n",
      "0   0     NaN      NaN                        happened terrible car crash\n",
      "1   2     NaN      NaN          heard different cities stay safe everyone\n",
      "2   3     NaN      NaN  forest fire spot pond geese fleeing across str...\n",
      "3   9     NaN      NaN                                apocalypse lighting\n",
      "4  11     NaN      NaN             typhoon soudelor kills 28 china taiwan\n"
     ]
    }
   ],
   "source": [
    "import pandas as pd\n",
    "import re\n",
    "import string\n",
    "import nltk\n",
    "from nltk.corpus import stopwords\n",
    "from nltk.tokenize import word_tokenize\n",
    "\n",
    "\n",
    "# Define a function to clean the text data\n",
    "def clean_text(text):\n",
    "    # Remove URLs\n",
    "    text = re.sub(r'http\\S+', '', text)\n",
    "    # Remove mentions\n",
    "    text = re.sub(r'@\\w+', '', text)\n",
    "    # Remove hashtags\n",
    "    text = re.sub(r'#\\w+', '', text)\n",
    "    # Remove punctuation\n",
    "    text = text.translate(str.maketrans(\"\", \"\", string.punctuation))\n",
    "    # Convert to lowercase\n",
    "    text = text.lower()\n",
    "    # Tokenize the text\n",
    "    tokens = word_tokenize(text)\n",
    "    # Remove stop words\n",
    "    stop_words = set(stopwords.words('english'))\n",
    "    tokens = [word for word in tokens if not word in stop_words]\n",
    "    # Join the tokens back into a string\n",
    "    text = \" \".join(tokens)\n",
    "    return text\n",
    "\n",
    "# Apply the clean_text function to the text column of the train and test data\n",
    "train_df['text'] = train_df['text'].apply(clean_text)\n",
    "test_df['text'] = test_df['text'].apply(clean_text)\n",
    "\n",
    "# Print the first few rows of the cleaned test data\n",
    "print(test_df.head())\n"
   ]
  },
  {
   "cell_type": "markdown",
   "id": "af8767c0",
   "metadata": {},
   "source": [
    "Plan of analysis:\n",
    "\n",
    "1. Preprocess the text data using the above cleaning procedures\n",
    "2. Vectorizing the text data using techniques like bag-of-words, TF-IDF, or word embeddings\n",
    "3. Splitting the data into train and validation sets\n",
    "4. Training and evaluating various machine learning models on the train set\n",
    "5. Tuning the hyperparameters of the best-performing model using the validation set\n",
    "6. Generating predictions on the test set and submitting them to Kaggle for evaluation."
   ]
  },
  {
   "cell_type": "markdown",
   "id": "24b6f771",
   "metadata": {},
   "source": [
    "To represent the text data as a numerical input to the RNN will use word embeddings such as GloVe or Word2Vec. These methods map each word in the text to a high-dimensional vector that captures its semantic meaning based on the distributional hypothesis. The words that appear in similar contexts tend to have similar meanings. These vectors can be pre-trained on large text and then used as input to our RNN model."
   ]
  },
  {
   "cell_type": "markdown",
   "id": "568f2ff2",
   "metadata": {},
   "source": [
    "## Model Architecture "
   ]
  },
  {
   "cell_type": "code",
   "execution_count": 46,
   "id": "07440d39",
   "metadata": {},
   "outputs": [
    {
     "name": "stdout",
     "output_type": "stream",
     "text": [
      "Epoch 1/10\n",
      "108/108 [==============================] - 25s 198ms/step - loss: 0.5590 - accuracy: 0.7103 - val_loss: 0.4802 - val_accuracy: 0.7913\n",
      "Epoch 2/10\n",
      "108/108 [==============================] - 20s 180ms/step - loss: 0.2967 - accuracy: 0.8822 - val_loss: 0.5473 - val_accuracy: 0.7782\n",
      "Epoch 3/10\n",
      "108/108 [==============================] - 18s 169ms/step - loss: 0.1826 - accuracy: 0.9365 - val_loss: 0.6268 - val_accuracy: 0.7533\n",
      "Epoch 4/10\n",
      "108/108 [==============================] - 19s 175ms/step - loss: 0.1213 - accuracy: 0.9578 - val_loss: 0.7044 - val_accuracy: 0.7415\n",
      "Epoch 5/10\n",
      "108/108 [==============================] - 19s 177ms/step - loss: 0.0918 - accuracy: 0.9676 - val_loss: 0.7891 - val_accuracy: 0.7493\n",
      "Epoch 6/10\n",
      "108/108 [==============================] - 19s 178ms/step - loss: 0.0689 - accuracy: 0.9712 - val_loss: 0.9193 - val_accuracy: 0.7428\n",
      "Epoch 7/10\n",
      "108/108 [==============================] - 18s 170ms/step - loss: 0.0542 - accuracy: 0.9766 - val_loss: 0.9464 - val_accuracy: 0.7336\n",
      "Epoch 8/10\n",
      "108/108 [==============================] - 19s 174ms/step - loss: 0.0479 - accuracy: 0.9774 - val_loss: 1.0065 - val_accuracy: 0.7310\n",
      "Epoch 9/10\n",
      "108/108 [==============================] - 20s 183ms/step - loss: 0.0456 - accuracy: 0.9777 - val_loss: 1.1655 - val_accuracy: 0.7375\n",
      "Epoch 10/10\n",
      "108/108 [==============================] - 20s 186ms/step - loss: 0.0400 - accuracy: 0.9791 - val_loss: 1.1953 - val_accuracy: 0.7428\n",
      "102/102 [==============================] - 4s 30ms/step\n"
     ]
    }
   ],
   "source": [
    "# Load the data\n",
    "from keras.layers import Bidirectional\n",
    "\n",
    "train_df = pd.read_csv(\"train.csv\")\n",
    "\n",
    "# Clean the text data\n",
    "train_df[\"text\"] = train_df[\"text\"].apply(clean_text)\n",
    "\n",
    "# Split the data into training and validation sets\n",
    "train_df, val_df = train_test_split(train_df, test_size=0.1, random_state=42)\n",
    "\n",
    "# Tokenize the text data\n",
    "tokenizer = Tokenizer()\n",
    "tokenizer.fit_on_texts(train_df[\"text\"])\n",
    "\n",
    "# Convert the text data to sequences\n",
    "train_sequences = pad_sequences(tokenizer.texts_to_sequences(train_df[\"text\"]), maxlen=max_len)\n",
    "val_sequences = pad_sequences(tokenizer.texts_to_sequences(val_df[\"text\"]), maxlen=max_len)\n",
    "\n",
    "# Train the model\n",
    "model = Sequential([\n",
    "    Embedding(input_dim=vocab_size, output_dim=embedding_dim, input_length=max_len),\n",
    "    Bidirectional(LSTM(units=32)),\n",
    "    Dense(units=1, activation=\"sigmoid\")\n",
    "])\n",
    "model.compile(loss=\"binary_crossentropy\", optimizer=\"adam\", metrics=[\"accuracy\"])\n",
    "model.fit(train_sequences, train_df[\"target\"], epochs=10, batch_size=64, validation_data=(val_sequences, val_df[\"target\"]))\n",
    "\n",
    "# Load the test data\n",
    "test_df = pd.read_csv(\"test.csv\")\n",
    "\n",
    "# Clean the text data\n",
    "test_df[\"text\"] = test_df[\"text\"].apply(clean_text)\n",
    "\n",
    "# Convert the text data to sequences\n",
    "test_sequences = pad_sequences(tokenizer.texts_to_sequences(test_df[\"text\"]), maxlen=max_len)\n",
    "\n",
    "\n",
    "# Make predictions on the test data\n",
    "predictions = model.predict(test_sequences)\n",
    "\n",
    "# Get predicted classes\n",
    "predicted_classes = np.argmax(predictions, axis=1)\n",
    "\n",
    "# Create a submission dataframe\n",
    "submission_df = pd.DataFrame({\"id\": test_df[\"id\"], \"target\": predicted_classes})\n",
    "\n",
    "# Save the submission dataframe to a CSV file\n",
    "submission_df.to_csv(\"submission.csv\", index=False)\n"
   ]
  },
  {
   "cell_type": "markdown",
   "id": "4273d7e0",
   "metadata": {},
   "source": [
    "The reason I chose LSTM is that it is a type of RNN that can capture long-term dependencies in the input sequence. Since tweets can have complex sentence structures then LSTM can help the model learn the context and meaning of the words in the tweet by considering the words in the sequence as a whole.\n",
    "\n",
    "I chose to use TF-IDF word embeddings because they are a simple yet effective method to represent text data in a vectorized form. The TF-IDF weight of each word in a document is calculated and this weight is used as a measure of the importance of the word in the document. Afterwards each document is represented as a vector of TF-IDF weights of its constituent words. This vector representation of the text can be fed into the neural network model for classification.\n",
    "\n",
    "Then compiled the model using binary cross-entropy as the loss function and the Adam optimizer. Then trained the model for 10 epochs with a batch size of 64, using the TF-IDF vectors of the training and validation sets. After training the model I generated predictions on the test data using the predict_classes method.\n"
   ]
  },
  {
   "cell_type": "markdown",
   "id": "c2b7e7a8",
   "metadata": {},
   "source": [
    "## Results and Analysis"
   ]
  },
  {
   "cell_type": "code",
   "execution_count": 18,
   "id": "d2d12009",
   "metadata": {},
   "outputs": [
    {
     "name": "stdout",
     "output_type": "stream",
     "text": [
      "Trial 10 Complete [00h 02m 33s]\n",
      "val_accuracy: 0.8023637533187866\n",
      "\n",
      "Best val_accuracy So Far: 0.8089297413825989\n",
      "Total elapsed time: 01h 50m 13s\n",
      "INFO:tensorflow:Oracle triggered exit\n",
      "Model: \"sequential\"\n",
      "_________________________________________________________________\n",
      " Layer (type)                Output Shape              Param #   \n",
      "=================================================================\n",
      " embedding (Embedding)       (None, 100, 100)          2000000   \n",
      "                                                                 \n",
      " lstm (LSTM)                 (None, 100, 128)          117248    \n",
      "                                                                 \n",
      " dropout (Dropout)           (None, 100, 128)          0         \n",
      "                                                                 \n",
      " lstm_1 (LSTM)               (None, 128)               131584    \n",
      "                                                                 \n",
      " dropout_1 (Dropout)         (None, 128)               0         \n",
      "                                                                 \n",
      " dense (Dense)               (None, 1)                 129       \n",
      "                                                                 \n",
      "=================================================================\n",
      "Total params: 2,248,961\n",
      "Trainable params: 2,248,961\n",
      "Non-trainable params: 0\n",
      "_________________________________________________________________\n"
     ]
    }
   ],
   "source": [
    "\n",
    "# Load the data\n",
    "train_df = pd.read_csv(\"train.csv\")\n",
    "\n",
    "# Define a function to preprocess the text\n",
    "def clean_text(text):\n",
    "    # Remove URLs\n",
    "    text = re.sub(r'http\\S+', '', text)\n",
    "    # Remove mentions\n",
    "    text = re.sub(r'@\\w+', '', text)\n",
    "    # Remove hashtags\n",
    "    text = re.sub(r'#\\w+', '', text)\n",
    "    # Remove punctuation\n",
    "    text = text.translate(str.maketrans('', '', string.punctuation))\n",
    "    # Convert to lowercase\n",
    "    text = text.lower()\n",
    "    # Remove whitespace\n",
    "    text = text.strip()\n",
    "    return text\n",
    "\n",
    "# Preprocess the text data\n",
    "train_df[\"text\"] = train_df[\"text\"].apply(clean_text)\n",
    "\n",
    "# Split the data into training and validation sets\n",
    "X_train, X_val, y_train, y_val = train_test_split(train_df[\"text\"], train_df[\"target\"], test_size=0.2, random_state=42)\n",
    "\n",
    "# Define the hyperparameters to search\n",
    "def build_model(hp):\n",
    "    model = Sequential()\n",
    "    model.add(Embedding(input_dim=vocab_size, output_dim=embedding_dim, input_length=max_len))\n",
    "    for i in range(hp.Int('num_lstm_layers', 1, 2)):\n",
    "        model.add(LSTM(units=hp.Choice('lstm_units', values=[32, 64, 128]), return_sequences=True))\n",
    "        model.add(Dropout(rate=hp.Choice('dropout_rate', values=[0.2, 0.3, 0.4])))\n",
    "    model.add(LSTM(units=hp.Choice('lstm_units', values=[32, 64, 128])))\n",
    "    model.add(Dropout(rate=hp.Choice('dropout_rate', values=[0.2, 0.3, 0.4])))\n",
    "    model.add(Dense(units=1, activation='sigmoid'))\n",
    "    model.compile(loss='binary_crossentropy', optimizer='adam', metrics=['accuracy'])\n",
    "    return model\n",
    "\n",
    "# Create a tuner object and search for the best hyperparameters\n",
    "vocab_size = 20000\n",
    "embedding_dim = 100\n",
    "max_len = 100\n",
    "tokenizer = Tokenizer(num_words=vocab_size)\n",
    "tokenizer.fit_on_texts(X_train)\n",
    "train_sequences = tokenizer.texts_to_sequences(X_train)\n",
    "train_sequences = pad_sequences(train_sequences, maxlen=max_len)\n",
    "val_sequences = tokenizer.texts_to_sequences(X_val)\n",
    "val_sequences = pad_sequences(val_sequences, maxlen=max_len)\n",
    "\n",
    "hypermodel = MyHyperModel(max_len=max_len, vocab_size=vocab_size, embedding_dim=embedding_dim)\n",
    "\n",
    "tuner = RandomSearch(\n",
    "    hypermodel,\n",
    "    objective='val_accuracy',\n",
    "    max_trials=10,\n",
    "    directory='hyperparam_tuning',\n",
    "    project_name='disaster_tweet_classification'\n",
    ")\n",
    "\n",
    "tuner.search(train_sequences, y_train, epochs=10, validation_data=(val_sequences, y_val))\n",
    "\n",
    "best_model = tuner.get_best_models(num_models=1)[0]\n",
    "best_model.summary()\n",
    "\n",
    "# Load the test data\n",
    "test_df = pd.read_csv(\"test.csv\")\n",
    "\n",
    "# Preprocess the test data\n",
    "test_df[\"text\"] = test_df[\"text\"].apply(clean_text)\n",
    "test_docs = test_df[\"text\"]\n",
    "test_sequences = tokenizer.texts_to_sequences(test_docs)\n",
    "test_sequences = pad_sequences(test_sequences, maxlen=max_len)\n",
    "\n",
    "#\n"
   ]
  },
  {
   "cell_type": "code",
   "execution_count": 20,
   "id": "d5414c14",
   "metadata": {},
   "outputs": [
    {
     "name": "stdout",
     "output_type": "stream",
     "text": [
      "102/102 [==============================] - 6s 46ms/step\n"
     ]
    }
   ],
   "source": [
    "# Make predictions on the test data\n",
    "predictions = best_model.predict(test_sequences)\n",
    "\n",
    "# Round the predictions to 0 or 1\n",
    "predictions = np.round(predictions).astype(int)\n",
    "\n",
    "# Create a submission dataframe\n",
    "submission_df = pd.DataFrame({\"id\": test_df[\"id\"], \"target\": predictions.flatten()})\n",
    "\n",
    "# Save the submission dataframe to a CSV file\n",
    "submission_df.to_csv(\"submission.csv\", index=False)\n"
   ]
  },
  {
   "cell_type": "markdown",
   "id": "affa9fe9",
   "metadata": {},
   "source": [
    "## Conclusion"
   ]
  },
  {
   "cell_type": "markdown",
   "id": "2fd0369d",
   "metadata": {},
   "source": [
    "The goal of this project was to build a model that predicts whether a given tweet is about a real disaster or not. First started exploring and preprocessing the data. Then converting the text data into numerical form. I then used a basic RNN model with an embedding layer to train the first model that achieved an accuracy of around 57%.\n",
    "\n",
    "Next I used hyperparameter tuning using Keras Tuner to find the best combination of hyperparameters for the model. The best model had two LSTM layers with 128 units and a dropout rate of 0.2. This model achieved an accuracy of 80.2% on the validation data and a score of 0.791 on the test data on Kaggle.\n",
    "\n",
    "Based on the results found I learned that hyperparameter tuning can be a powerful tool to improve model performance. Also using more advanced model architectures such as LSTMs can help improve performance over basic RNNs. Preprocessing techniques such as removing stop words or stemming could be explored in future work to see if they improve the model performance.\n",
    "\n",
    "In conclusion, this project provided a good introduction to natural language processing and sequence modeling with recurrent neural networks. It also showed me the importance of proper preprocessing and hyperparameter tuning in achieving good performance on NLP tasks."
   ]
  },
  {
   "cell_type": "markdown",
   "id": "f3aa8e8b",
   "metadata": {},
   "source": [
    "## Reference list:\n",
    "\n",
    "https://www.kaggle.com/shahules/basic-eda-cleaning-and-glove\n",
    "https://www.kaggle.com/philculliton/nlp-getting-started-tutorial\n",
    "https://towardsdatascience.com/introduction-to-word-embedding-and-word2vec-652d0c2060fa\n",
    "https://towardsdatascience.com/understanding-lstm-and-its-quick-implementation-in-keras-for-sentiment-analysis-af410fd85b47"
   ]
  },
  {
   "cell_type": "code",
   "execution_count": null,
   "id": "e450035b",
   "metadata": {},
   "outputs": [],
   "source": []
  },
  {
   "cell_type": "code",
   "execution_count": null,
   "id": "48eb47c8",
   "metadata": {},
   "outputs": [],
   "source": []
  }
 ],
 "metadata": {
  "kernelspec": {
   "display_name": "Python 3 (ipykernel)",
   "language": "python",
   "name": "python3"
  },
  "language_info": {
   "codemirror_mode": {
    "name": "ipython",
    "version": 3
   },
   "file_extension": ".py",
   "mimetype": "text/x-python",
   "name": "python",
   "nbconvert_exporter": "python",
   "pygments_lexer": "ipython3",
   "version": "3.9.12"
  }
 },
 "nbformat": 4,
 "nbformat_minor": 5
}
